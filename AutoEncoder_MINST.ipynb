{
  "nbformat": 4,
  "nbformat_minor": 0,
  "metadata": {
    "colab": {
      "provenance": []
    },
    "kernelspec": {
      "name": "python3",
      "display_name": "Python 3"
    },
    "language_info": {
      "name": "python"
    }
  },
  "cells": [
    {
      "cell_type": "code",
      "execution_count": 29,
      "metadata": {
        "id": "N8t2rmcG7lwA"
      },
      "outputs": [],
      "source": [
        "from keras.datasets.mnist import load_data\n",
        "from keras.models import Sequential\n",
        "from keras.layers import Conv2D,UpSampling2D\n",
        "from keras.layers import MaxPooling2D\n",
        "import numpy as np\n"
      ]
    },
    {
      "cell_type": "code",
      "source": [
        "(x_train,_),(x_test,_) = load_data()\n",
        "\n",
        "x_train = np.expand_dims(x_train,axis = 3)\n",
        "x_test = np.expand_dims(x_test,axis = 3)\n",
        "\n",
        "x_train=np.float64(x_train)\n",
        "x_test=np.float64(x_test)\n",
        "\n",
        "x_train=x_train/255\n",
        "x_test=x_test/255"
      ],
      "metadata": {
        "id": "vYJFggxc75LM"
      },
      "execution_count": 22,
      "outputs": []
    },
    {
      "cell_type": "code",
      "source": [
        "#Encodeing \"Compresses\"\n",
        "model=Sequential()\n",
        "model.add(Conv2D(32,(3,3),activation='relu',padding=\"same\",input_shape=(28,28,1)))\n",
        "model.add(MaxPooling2D((2,2),padding=\"same\"))\n",
        "model.add(Conv2D(64,(3,3),activation='relu',padding=\"same\"))\n",
        "model.add(MaxPooling2D((2,2),padding=\"same\"))\n",
        "model.add(Conv2D(128,(3,3),activation='relu',padding=\"same\"))\n",
        "\n",
        "\n",
        "\n",
        "#Decodeing \"Reconstract\"\n",
        "model.add(Conv2D(128,(3,3),activation='relu',padding=\"same\"))\n",
        "model.add(UpSampling2D((2,2)))\n",
        "model.add(Conv2D(64,(3,3),activation='relu',padding=\"same\"))\n",
        "model.add(UpSampling2D((2,2)))\n",
        "\n",
        "\n",
        "model.add(Conv2D(1,(3,3),activation='relu',padding=\"same\"))\n",
        "\n",
        "model.compile(optimizer='adam',loss='mse',metrics=['accuracy'])\n",
        "model.fit(x_train,x_train,epochs=10,shuffle=True)\n",
        "\n",
        "model.summary()"
      ],
      "metadata": {
        "colab": {
          "base_uri": "https://localhost:8080/"
        },
        "id": "bFWz5tha78M1",
        "outputId": "60b17aa6-9a4b-4ce3-b5f3-dfcf4b0fe1de"
      },
      "execution_count": null,
      "outputs": [
        {
          "output_type": "stream",
          "name": "stdout",
          "text": [
            "Epoch 1/10\n",
            "\u001b[1m1875/1875\u001b[0m \u001b[32m━━━━━━━━━━━━━━━━━━━━\u001b[0m\u001b[37m\u001b[0m \u001b[1m417s\u001b[0m 221ms/step - accuracy: 0.8141 - loss: 0.0075\n",
            "Epoch 2/10\n",
            "\u001b[1m1875/1875\u001b[0m \u001b[32m━━━━━━━━━━━━━━━━━━━━\u001b[0m\u001b[37m\u001b[0m \u001b[1m409s\u001b[0m 218ms/step - accuracy: 0.8154 - loss: 0.0016\n",
            "Epoch 3/10\n",
            "\u001b[1m1875/1875\u001b[0m \u001b[32m━━━━━━━━━━━━━━━━━━━━\u001b[0m\u001b[37m\u001b[0m \u001b[1m407s\u001b[0m 217ms/step - accuracy: 0.8155 - loss: 0.0012\n",
            "Epoch 4/10\n",
            "\u001b[1m1875/1875\u001b[0m \u001b[32m━━━━━━━━━━━━━━━━━━━━\u001b[0m\u001b[37m\u001b[0m \u001b[1m444s\u001b[0m 218ms/step - accuracy: 0.8152 - loss: 9.8208e-04\n",
            "Epoch 5/10\n",
            "\u001b[1m1875/1875\u001b[0m \u001b[32m━━━━━━━━━━━━━━━━━━━━\u001b[0m\u001b[37m\u001b[0m \u001b[1m442s\u001b[0m 218ms/step - accuracy: 0.8155 - loss: 8.3861e-04\n",
            "Epoch 6/10\n",
            "\u001b[1m1875/1875\u001b[0m \u001b[32m━━━━━━━━━━━━━━━━━━━━\u001b[0m\u001b[37m\u001b[0m \u001b[1m443s\u001b[0m 218ms/step - accuracy: 0.8157 - loss: 7.5192e-04\n",
            "Epoch 7/10\n",
            "\u001b[1m1875/1875\u001b[0m \u001b[32m━━━━━━━━━━━━━━━━━━━━\u001b[0m\u001b[37m\u001b[0m \u001b[1m442s\u001b[0m 219ms/step - accuracy: 0.8155 - loss: 6.7727e-04\n",
            "Epoch 8/10\n",
            "\u001b[1m1875/1875\u001b[0m \u001b[32m━━━━━━━━━━━━━━━━━━━━\u001b[0m\u001b[37m\u001b[0m \u001b[1m446s\u001b[0m 221ms/step - accuracy: 0.8155 - loss: 6.3486e-04\n",
            "Epoch 9/10\n",
            "\u001b[1m1875/1875\u001b[0m \u001b[32m━━━━━━━━━━━━━━━━━━━━\u001b[0m\u001b[37m\u001b[0m \u001b[1m440s\u001b[0m 220ms/step - accuracy: 0.8154 - loss: 5.9539e-04\n",
            "Epoch 10/10\n",
            "\u001b[1m1337/1875\u001b[0m \u001b[32m━━━━━━━━━━━━━━\u001b[0m\u001b[37m━━━━━━\u001b[0m \u001b[1m1:57\u001b[0m 219ms/step - accuracy: 0.8159 - loss: 5.6253e-04"
          ]
        }
      ]
    },
    {
      "cell_type": "code",
      "source": [
        "model.predict(x_train[15])\n"
      ],
      "metadata": {
        "id": "kefehkNy8m7w"
      },
      "execution_count": null,
      "outputs": []
    },
    {
      "cell_type": "code",
      "source": [],
      "metadata": {
        "id": "oMw3A_zcAiw9"
      },
      "execution_count": null,
      "outputs": []
    }
  ]
}